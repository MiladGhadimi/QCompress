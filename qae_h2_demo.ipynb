{
 "cells": [
  {
   "cell_type": "markdown",
   "metadata": {},
   "source": [
    "# QCompress: Quantum Autoencoder Simulation Tool\n",
    "\n",
    "We built QCompress, a framework for the quantum autoencoder (QAE), as our project at Rigetti Computing's first [quantum computing hackathon](https://rigetticomputing.github.io/blog/2018/04/09/Quantum-Hackathon-Recap.html). The main objective of QCompress is to train the quantum autoencoder to compress a quantum data set (i.e. a set of quantum states), expressing the data using fewer qubits.\n",
    "\n",
    "### What is a quantum autoencoder (QAE)?\n",
    "\n",
    "<img src=\"images/qae_image.png\" width=\"400\">\n",
    "\n",
    "Similar to the idea of classical autoencoders, a quantum autoencoder is a function whose parameters are optimized across a training data such that given an $(n+k)$-qubit input $x$, the autoencoder attempts to reproduce $x$. Part of the process involves expressing the input data set using a fewer number of qubits (using $n$ qubits out of $n+k$). This means that if the QAE is successfully trained, the corresponding circuit represents a compressed encoding of the input $x$, which may be useful to applications such as dimension reduction of quantum data. For a more in-depth explanation of the QAE, please refer to the original [paper](https://arxiv.org/abs/1612.02806). In addition, we note that this is one possible realization of a \"quantum\" autoencoder and that there are other proposed models for the quantum autoencoder.\n",
    "\n",
    "### Demo Outline\n",
    "We break up the demo into several parts:\n",
    "1. Preparation of the quantum data\n",
    "2. Choosing a programmable circuit\n",
    "3. Setting up the QAE engine/simulator\n",
    "4. Running the engine\n",
    "\n",
    "### Demo Details\n",
    "\n",
    "For this demo, we try to compress ground states of molecular hydrogen at various bond lengths. We start with 4 qubits and try to compress the information to 1 qubit (i.e. 4-1-4 quantum autoencoder).\n",
    "\n",
    "<img src=\"images/qae_setup.png\" width=\"400\">\n",
    "\n",
    "We note that our setup is different from what was proposed in the original [paper](https://arxiv.org/abs/1612.02806). As shown in the figure above, we use 7 total qubits for the 4-1-4 autoencoder, using the last 3 qubits (qubits $q_6$, $q_5$, and $q_4$) as refresh qubits. The unitary $S$ represents the state preparation circuit, gates implemented to produce the input data set. The unitary $U$ represents the training circuit that will be responsible for representing the data set using a fewer number of qubits, in this case using a single qubit. The tilde symbol above the daggered operations indicates that the qubit indexing has been adjusted such that $q_0 \\rightarrow q_6$, $q_1 \\rightarrow q_5$, $q_2 \\rightarrow q_4$, and $q_3 \\rightarrow q_3$ (For clarity, refer to the figure below for an equivalent circuit with the refresh qubits moved around). So qubit $q_3$ is to be the \"latent space qubit,\" or qubit to hold the compressed information. Using the circuit structure above (applying  $S$ and $U$ then effectively __un__-applying $S$ and $U$), we train the autoencoder by propagating the QAE circuit with proposed parameters and counting the number of times the measurements of the refresh qubits and the latent space qubits ($q_3$ to $q_6$) are 0000. We negate this value for casting as a minimization problem and average over the training set to compute a single loss value.\n",
    "\n",
    "<img src=\"images/qae_adjusted.png\" width=\"400\">\n"
   ]
  },
  {
   "cell_type": "code",
   "execution_count": 1,
   "metadata": {},
   "outputs": [],
   "source": [
    "# Import modules\n",
    "%matplotlib inline\n",
    "import matplotlib.pyplot as plt\n",
    "import numpy as np\n",
    "import os\n",
    "\n",
    "from openfermion.hamiltonians import MolecularData\n",
    "from openfermion.transforms import get_sparse_operator, jordan_wigner\n",
    "from openfermion.utils import get_ground_state\n",
    "\n",
    "from forestopenfermion import qubitop_to_pyquilpauli\n",
    "\n",
    "import pyquil.api as api\n",
    "from pyquil.gates import *\n",
    "from pyquil.quil import Program\n",
    "\n",
    "from grove.alpha.arbitrary_state import arbitrary_state\n",
    "\n",
    "from qae_engine import *\n",
    "\n",
    "global pi\n",
    "pi = np.pi"
   ]
  },
  {
   "cell_type": "markdown",
   "metadata": {},
   "source": [
    "## Settings\n",
    "\n",
    "Here we define settings for the QVM (to run our simulations) and for the autoencoder."
   ]
  },
  {
   "cell_type": "code",
   "execution_count": 2,
   "metadata": {},
   "outputs": [
    {
     "name": "stdout",
     "output_type": "stream",
     "text": [
      "0 -> 6\n",
      "1 -> 5\n",
      "2 -> 4\n",
      "3 -> 3\n"
     ]
    }
   ],
   "source": [
    "# QVM settings\n",
    "n_samples = 3000                 # number of circuit runs\n",
    "gate_noise = None                # noise parameter for QVM\n",
    "measurement_noise = None         # noise parameter for QVM\n",
    "\n",
    "# Autoencoder settings\n",
    "n_qubits_in = 4                  # Number of qubits to encode input data\n",
    "n_qubits_ls = 1                  # Number of qubits in latent space\n",
    "\n",
    "# Total number of qubits involved in QAE setup\n",
    "n_total_qubits = n_qubits_in + (n_qubits_in - n_qubits_ls)\n",
    "\n",
    "# Adjusted qubit indexing for latter half of the QAE setup\n",
    "new_range = range(n_total_qubits - n_qubits_in, n_total_qubits)\n",
    "new_range = new_range[::-1]\n",
    "\n",
    "for qubit_i, qubit_i_new in enumerate(new_range):\n",
    "    print(\"{0} -> {1}\".format(qubit_i, qubit_i_new))"
   ]
  },
  {
   "cell_type": "markdown",
   "metadata": {},
   "source": [
    "# Generating input data\n",
    "\n",
    "We use routines from `OpenFermion`, `ForestOpenFermion`, and `grove` to generate the input data set. We've provided the data files for you, which were produced using `OpenFermion`'s plugin `OpenFermion-Psi4`."
   ]
  },
  {
   "cell_type": "code",
   "execution_count": 3,
   "metadata": {},
   "outputs": [],
   "source": [
    "qvm = api.QVMConnection()\n",
    "\n",
    "# MolecularData settings\n",
    "molecule_name = \"H2\"\n",
    "basis = \"sto-3g\"\n",
    "multiplicity = \"singlet\"\n",
    "dist_list = np.arange(0.2, 4.2, 0.1)\n",
    "\n",
    "# Lists to store HF and FCI energies\n",
    "hf_energies = []\n",
    "fci_energies = []\n",
    "test_energies = []\n",
    "\n",
    "# Lists to store state preparation circuits\n",
    "list_SP_circuits = []\n",
    "list_SP_circuits_dag = []\n",
    "\n",
    "\n",
    "for dist in dist_list:\n",
    "    # Fetch file path\n",
    "    dist = \"{0:.1f}\".format(dist)\n",
    "    file_path = os.path.join(\"H2_sto3g/{0}_{1}_{2}_{3}.hdf5\".format(molecule_name,\n",
    "                                                                    basis,\n",
    "                                                                    multiplicity,\n",
    "                                                                    dist))\n",
    "    \n",
    "    # Extract molecular info\n",
    "    molecule = MolecularData(filename=file_path)\n",
    "    n_qubits = molecule.n_qubits\n",
    "    hf_energies.append(molecule.hf_energy)\n",
    "    fci_energies.append(molecule.fci_energy)\n",
    "    molecular_ham = molecule.get_molecular_hamiltonian()\n",
    "    \n",
    "    # Set up hamiltonian in qubit basis\n",
    "    qubit_ham = jordan_wigner(molecular_ham)\n",
    "\n",
    "    # Convert from OpenFermion's to PyQuil's data type (QubitOperator to PauliTerm/PauliSum)\n",
    "    qubit_ham_pyquil = qubitop_to_pyquilpauli(qubit_ham)\n",
    "\n",
    "    # Sanity check: Obtain ground state energy and check with MolecularData's FCI energy\n",
    "    molecular_ham_sparse = get_sparse_operator(operator=molecular_ham,\n",
    "                                               n_qubits=n_qubits)\n",
    "    ground_energy, ground_state = get_ground_state(molecular_ham_sparse)\n",
    "    assert np.isclose(molecule.fci_energy, ground_energy)\n",
    "    \n",
    "    # Generate unitary to prepare ground states\n",
    "    state_prep_unitary = arbitrary_state.create_arbitrary_state(\n",
    "                            ground_state,\n",
    "                            qubits=range(n_qubits))\n",
    "    \n",
    "    # Generate daggered state prep unitary (WITH NEW/ADJUSTED INDICES!)\n",
    "    state_prep_unitary_dag = arbitrary_state.create_arbitrary_state(\n",
    "                                ground_state,\n",
    "                                qubits=new_range).dagger()\n",
    "    \n",
    "    # Sanity check: Compute energy wrt wavefunction evolved under state_prep_unitary\n",
    "    wfn = qvm.wavefunction(state_prep_unitary)\n",
    "    ket = wfn.amplitudes\n",
    "    bra = np.transpose(np.conjugate(wfn.amplitudes))\n",
    "    ham_matrix = molecular_ham_sparse.toarray()\n",
    "    energy_expectation = np.dot(bra, np.dot(ham_matrix, ket))\n",
    "    test_energies.append(energy_expectation)\n",
    "    \n",
    "    # Store circuits\n",
    "    list_SP_circuits.append(state_prep_unitary)\n",
    "    list_SP_circuits_dag.append(state_prep_unitary_dag)"
   ]
  },
  {
   "cell_type": "markdown",
   "metadata": {},
   "source": [
    "### Try plotting the energies of the input data set.\n",
    "\n",
    "To (visually) check our state preparation circuits, we run these circuits and plot the energies. The \"test\" energies overlay nicely with the FCI energies."
   ]
  },
  {
   "cell_type": "code",
   "execution_count": 4,
   "metadata": {},
   "outputs": [
    {
     "data": {
      "image/png": "[encoded data removed]",
      "text/plain": [
       "<Figure size 432x288 with 1 Axes>"
      ]
     },
     "metadata": {},
     "output_type": "display_data"
    }
   ],
   "source": [
    "imag_components = np.array([E.imag for E in test_energies])\n",
    "assert np.isclose(imag_components, np.zeros(len(imag_components))).all()\n",
    "test_energies = [E.real for E in test_energies]\n",
    "\n",
    "plt.plot(dist_list, hf_energies, '.-', label='HF')\n",
    "plt.plot(dist_list, fci_energies, 'd-', markersize=6, label='FCI')\n",
    "plt.plot(dist_list, test_energies, '.-', markersize=4, label='Test energies')\n",
    "plt.title(\"Dissociation Profile, $H_2$\")\n",
    "plt.xlabel(\"Bond Length, Angstroms\")\n",
    "plt.ylabel(\"Energy, Hartrees\")\n",
    "plt.legend()\n",
    "plt.show()"
   ]
  },
  {
   "cell_type": "markdown",
   "metadata": {},
   "source": [
    "## Training circuit for QAE\n",
    "\n",
    "Now we want to choose a parametrized circuit which we hope to train to compress the input quantum data set. As part of this project, we created a class called `QAECircuit` that allows us to create such programmable circuits by layer!\n",
    "\n",
    "However, for this demonstration, we will use a simple 2-parameter circuit, as shown below.\n",
    "\n",
    "__NOTE__: For more general data sets (and general circuits), we may need to run multiple instances of the QAE with different initial guesses to find a good compression circuit."
   ]
  },
  {
   "cell_type": "code",
   "execution_count": 5,
   "metadata": {},
   "outputs": [],
   "source": [
    "def simple_programmable_circuit(theta, circuit, qubit_indices):\n",
    "    \"\"\"Returns parametrized training circuit.\n",
    "    \n",
    "    Args:\n",
    "    =====\n",
    "    theta : list or numpy.array, required\n",
    "        List or array of parameters\n",
    "    circuit : pyquil.quil.Program, required\n",
    "        Quantum circuit to append variational circuit\n",
    "    qubit_indices : list, required\n",
    "        List of qubit indices\n",
    "        \n",
    "    Returns:\n",
    "    ========\n",
    "    circuit : pyquil.quil.Program\n",
    "        Quantum circuit with variational circuit added\n",
    "    \"\"\"\n",
    "    if circuit is None:\n",
    "        circuit = Program()\n",
    "    else:\n",
    "        circuit = circuit\n",
    "\n",
    "    circuit += Program(RX(theta[0], qubit_indices[2]),\n",
    "                       RX(theta[1], qubit_indices[3]))\n",
    "    circuit += Program(CNOT(qubit_indices[2], qubit_indices[0]),\n",
    "                       CNOT(qubit_indices[3], qubit_indices[1]),\n",
    "                       CNOT(qubit_indices[3], qubit_indices[2]))\n",
    "    return circuit"
   ]
  },
  {
   "cell_type": "markdown",
   "metadata": {},
   "source": [
    "## Initialize the QAE engine\n",
    "\n",
    "Here we create an instance of the quantum_autoencoder class. Leveraging the features of the `Forest` platform, this quantum autoencoder \"engine\" allows you to run a noisy version of the QVM to get a sense of how the autoencoder performs under noise (but qvm is noiseless in this demo)."
   ]
  },
  {
   "cell_type": "code",
   "execution_count": 6,
   "metadata": {},
   "outputs": [],
   "source": [
    "qae = quantum_autoencoder(n_qubits_in=n_qubits_in,\n",
    "                          n_qubits_latent_space=n_qubits_ls,\n",
    "                          state_preparation_circuits=list_SP_circuits,\n",
    "                          state_preparation_circuits_dag=list_SP_circuits_dag,\n",
    "                          training_circuit=simple_programmable_circuit,                        \n",
    "                          n_samples=n_samples,\n",
    "                          gate_noise=gate_noise,\n",
    "                          meas_noise=measurement_noise,\n",
    "                          display_progress=False)"
   ]
  },
  {
   "cell_type": "markdown",
   "metadata": {},
   "source": [
    "Let's split the data set into training and test set. If we don't input the argument `train_indices`, the data set will be randomly split. However, knowing our quantum data set, we may want to choose various regions along the PES (the energy curve shown above) to train the entire function. Here, we pick 6 out of 40 data points for our training set."
   ]
  },
  {
   "cell_type": "code",
   "execution_count": 7,
   "metadata": {},
   "outputs": [],
   "source": [
    "qae.train_test_split(train_indices=[3, 10, 15, 20, 30, 35])"
   ]
  },
  {
   "cell_type": "markdown",
   "metadata": {},
   "source": [
    "## Training\n",
    "\n",
    "The autoencoder is trained in the cell below, where the default optimization algorithm is Constrained Optimization BY Linear Approximation (COBYLA). The lowest possible mean loss value is -1.000."
   ]
  },
  {
   "cell_type": "code",
   "execution_count": 8,
   "metadata": {},
   "outputs": [
    {
     "name": "stdout",
     "output_type": "stream",
     "text": [
      "Iter    0 Mean Loss: -0.0000000\n",
      "Iter   10 Mean Loss: -0.0577778\n",
      "Iter   20 Mean Loss: -0.3192222\n",
      "Iter   30 Mean Loss: -0.7550556\n",
      "Iter   40 Mean Loss: -0.9881667\n",
      "Iter   50 Mean Loss: -0.9998889\n",
      "Iter   60 Mean Loss: -0.9999444\n",
      "Mean loss for training data: -0.9999444444444444\n"
     ]
    }
   ],
   "source": [
    "initial_guess = [pi/2., 0.]\n",
    "\n",
    "avg_loss_train = qae.train(initial_guess)"
   ]
  },
  {
   "cell_type": "markdown",
   "metadata": {},
   "source": [
    "## Testing\n",
    "\n",
    "Now test with the rest of the data set, and check the mean loss for the testing set!"
   ]
  },
  {
   "cell_type": "code",
   "execution_count": 9,
   "metadata": {},
   "outputs": [
    {
     "name": "stdout",
     "output_type": "stream",
     "text": [
      "Iter    0 Mean Loss: -0.9999216\n",
      "Mean loss for testing data: -0.9999215686274511\n"
     ]
    }
   ],
   "source": [
    "avg_loss_test = qae.predict()"
   ]
  },
  {
   "cell_type": "code",
   "execution_count": 10,
   "metadata": {},
   "outputs": [
    {
     "name": "stdout",
     "output_type": "stream",
     "text": [
      "[3.12282449 3.13897232]\n"
     ]
    }
   ],
   "source": [
    "# Optimized parameters\n",
    "print(qae.optimized_params)"
   ]
  },
  {
   "cell_type": "code",
   "execution_count": null,
   "metadata": {},
   "outputs": [],
   "source": []
  }
 ],
 "metadata": {
  "anaconda-cloud": {},
  "kernelspec": {
   "display_name": "Python 3",
   "language": "python",
   "name": "python3"
  },
  "language_info": {
   "codemirror_mode": {
    "name": "ipython",
    "version": 3
   },
   "file_extension": ".py",
   "mimetype": "text/x-python",
   "name": "python",
   "nbconvert_exporter": "python",
   "pygments_lexer": "ipython3",
   "version": "3.5.5"
  }
 },
 "nbformat": 4,
 "nbformat_minor": 1
}
